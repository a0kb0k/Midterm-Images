{
 "cells": [
  {
   "cell_type": "markdown",
   "id": "ec865369-8c7e-467d-8b5f-28644d975fc7",
   "metadata": {},
   "source": [
    "CODE TO CONVERT FROM TIME-DOMAIN"
   ]
  },
  {
   "cell_type": "markdown",
   "id": "825e8ce2-8daf-4844-adda-a50bf8126e0b",
   "metadata": {},
   "source": []
  },
  {
   "cell_type": "markdown",
   "id": "3e065955-8852-4605-945d-5d5625ef74e3",
   "metadata": {},
   "source": []
  },
  {
   "cell_type": "markdown",
   "id": "79379a8a-a868-4a6f-8485-6d2b94a90fff",
   "metadata": {},
   "source": []
  },
  {
   "cell_type": "markdown",
   "id": "306b81b3-bd27-4b49-90fe-bdce8c90dfdc",
   "metadata": {},
   "source": [
    "Import modules"
   ]
  },
  {
   "cell_type": "code",
   "execution_count": 146,
   "id": "d24a64ab-f4f3-467a-8d27-e02f962cde18",
   "metadata": {},
   "outputs": [],
   "source": [
    "import pandas as pd\n",
    "import numpy as np\n",
    "import matplotlib.pyplot as plt\n",
    "import plotly.express as xp\n",
    "import plotly.io as pio; pio.renderers.default = \"iframe\"\n",
    "from scipy import signal\n",
    "import os"
   ]
  },
  {
   "cell_type": "markdown",
   "id": "ed44fa29-dbd4-46c6-a059-c8531d690c0d",
   "metadata": {},
   "source": [
    "Upload .CSV File\n",
    "Needs to be in the time-domain. Double-check the directory and path of the files being read and output.\n",
    "Example of file path directory: C:\\Users\\DBaltazar\\FF.csv"
   ]
  },
  {
   "cell_type": "code",
   "execution_count": 168,
   "id": "749be4b3-e4cf-47c0-9614-7bddb5ebf209",
   "metadata": {},
   "outputs": [
    {
     "name": "stdin",
     "output_type": "stream",
     "text": [
      "Name of the output files:  tuyp\n"
     ]
    }
   ],
   "source": [
    "# Inpute direct file path for the time-domain CSV file INSIDE the quotation marks\n",
    "output_file_name = str(input(\"Name of the output files: \"))\n",
    "filename = os.path.abspath(r\"C:\\Users\\DBaltazar\\FF.csv\")"
   ]
  },
  {
   "cell_type": "code",
   "execution_count": 169,
   "id": "53f38325-1500-436d-893d-b55b73cfa0d2",
   "metadata": {},
   "outputs": [
    {
     "data": {
      "text/html": [
       "<div>\n",
       "<style scoped>\n",
       "    .dataframe tbody tr th:only-of-type {\n",
       "        vertical-align: middle;\n",
       "    }\n",
       "\n",
       "    .dataframe tbody tr th {\n",
       "        vertical-align: top;\n",
       "    }\n",
       "\n",
       "    .dataframe thead th {\n",
       "        text-align: right;\n",
       "    }\n",
       "</style>\n",
       "<table border=\"1\" class=\"dataframe\">\n",
       "  <thead>\n",
       "    <tr style=\"text-align: right;\">\n",
       "      <th></th>\n",
       "      <th>-0.03103</th>\n",
       "      <th>-0.02501</th>\n",
       "      <th>0.03435</th>\n",
       "    </tr>\n",
       "    <tr>\n",
       "      <th>4.54236</th>\n",
       "      <th></th>\n",
       "      <th></th>\n",
       "      <th></th>\n",
       "    </tr>\n",
       "  </thead>\n",
       "  <tbody>\n",
       "    <tr>\n",
       "      <th>4.54238</th>\n",
       "      <td>-0.00982</td>\n",
       "      <td>-0.01814</td>\n",
       "      <td>0.01649</td>\n",
       "    </tr>\n",
       "    <tr>\n",
       "      <th>4.54240</th>\n",
       "      <td>-0.00942</td>\n",
       "      <td>-0.02333</td>\n",
       "      <td>0.04777</td>\n",
       "    </tr>\n",
       "    <tr>\n",
       "      <th>4.54242</th>\n",
       "      <td>0.00702</td>\n",
       "      <td>-0.01100</td>\n",
       "      <td>0.04656</td>\n",
       "    </tr>\n",
       "    <tr>\n",
       "      <th>4.54244</th>\n",
       "      <td>0.00424</td>\n",
       "      <td>-0.01870</td>\n",
       "      <td>0.03300</td>\n",
       "    </tr>\n",
       "    <tr>\n",
       "      <th>4.54246</th>\n",
       "      <td>-0.00478</td>\n",
       "      <td>-0.02823</td>\n",
       "      <td>0.06253</td>\n",
       "    </tr>\n",
       "    <tr>\n",
       "      <th>...</th>\n",
       "      <td>...</td>\n",
       "      <td>...</td>\n",
       "      <td>...</td>\n",
       "    </tr>\n",
       "    <tr>\n",
       "      <th>8.61146</th>\n",
       "      <td>0.02161</td>\n",
       "      <td>0.00666</td>\n",
       "      <td>-0.04484</td>\n",
       "    </tr>\n",
       "    <tr>\n",
       "      <th>8.61148</th>\n",
       "      <td>0.03991</td>\n",
       "      <td>0.01297</td>\n",
       "      <td>-0.06189</td>\n",
       "    </tr>\n",
       "    <tr>\n",
       "      <th>8.61150</th>\n",
       "      <td>0.02718</td>\n",
       "      <td>0.00484</td>\n",
       "      <td>-0.05115</td>\n",
       "    </tr>\n",
       "    <tr>\n",
       "      <th>8.61152</th>\n",
       "      <td>0.02625</td>\n",
       "      <td>0.00274</td>\n",
       "      <td>-0.04269</td>\n",
       "    </tr>\n",
       "    <tr>\n",
       "      <th>8.61154</th>\n",
       "      <td>0.03553</td>\n",
       "      <td>0.01016</td>\n",
       "      <td>-0.05142</td>\n",
       "    </tr>\n",
       "  </tbody>\n",
       "</table>\n",
       "<p>203459 rows × 3 columns</p>\n",
       "</div>"
      ],
      "text/plain": [
       "         -0.03103  -0.02501  0.03435\n",
       "4.54236                             \n",
       "4.54238  -0.00982  -0.01814  0.01649\n",
       "4.54240  -0.00942  -0.02333  0.04777\n",
       "4.54242   0.00702  -0.01100  0.04656\n",
       "4.54244   0.00424  -0.01870  0.03300\n",
       "4.54246  -0.00478  -0.02823  0.06253\n",
       "...           ...       ...      ...\n",
       "8.61146   0.02161   0.00666 -0.04484\n",
       "8.61148   0.03991   0.01297 -0.06189\n",
       "8.61150   0.02718   0.00484 -0.05115\n",
       "8.61152   0.02625   0.00274 -0.04269\n",
       "8.61154   0.03553   0.01016 -0.05142\n",
       "\n",
       "[203459 rows x 3 columns]"
      ]
     },
     "execution_count": 169,
     "metadata": {},
     "output_type": "execute_result"
    }
   ],
   "source": [
    "df = pd.read_csv(filename) #load the data\n",
    "df = df.set_index(df.columns[0]) #set the first column as the index\n",
    "df # To double-check the right file was pulled up"
   ]
  },
  {
   "cell_type": "markdown",
   "id": "e9ab8d53-cdba-40e8-83dc-33ad571e8423",
   "metadata": {},
   "source": [
    "Basic Analysis of Time-Domain\n",
    "Gathers the following descriptions:\n",
    "- Peak Acceleration (max g's experienced) (Dependant on Sample Rate)\n",
    "- Grms (total acceleration experienced) (Independant of Sample Rate)\n",
    "- Crest Factor (Peak / grms) (Defines the sharpness of the spike; and indicator of bearing failure)"
   ]
  },
  {
   "cell_type": "code",
   "execution_count": 149,
   "id": "d5d9c88a-7091-44c1-adec-2f180a19de9c",
   "metadata": {},
   "outputs": [
    {
     "data": {
      "text/html": [
       "<div>\n",
       "<style scoped>\n",
       "    .dataframe tbody tr th:only-of-type {\n",
       "        vertical-align: middle;\n",
       "    }\n",
       "\n",
       "    .dataframe tbody tr th {\n",
       "        vertical-align: top;\n",
       "    }\n",
       "\n",
       "    .dataframe thead th {\n",
       "        text-align: right;\n",
       "    }\n",
       "</style>\n",
       "<table border=\"1\" class=\"dataframe\">\n",
       "  <thead>\n",
       "    <tr style=\"text-align: right;\">\n",
       "      <th></th>\n",
       "      <th>Peak Acceleration (g)</th>\n",
       "      <th>RMS (g)</th>\n",
       "      <th>Crest Factor</th>\n",
       "    </tr>\n",
       "  </thead>\n",
       "  <tbody>\n",
       "    <tr>\n",
       "      <th>-0.03103</th>\n",
       "      <td>50.32973</td>\n",
       "      <td>2.064290</td>\n",
       "      <td>24.381138</td>\n",
       "    </tr>\n",
       "    <tr>\n",
       "      <th>-0.02501</th>\n",
       "      <td>53.04711</td>\n",
       "      <td>2.541091</td>\n",
       "      <td>20.875726</td>\n",
       "    </tr>\n",
       "    <tr>\n",
       "      <th>0.03435</th>\n",
       "      <td>104.33089</td>\n",
       "      <td>6.223432</td>\n",
       "      <td>16.764205</td>\n",
       "    </tr>\n",
       "  </tbody>\n",
       "</table>\n",
       "</div>"
      ],
      "text/plain": [
       "          Peak Acceleration (g)   RMS (g)  Crest Factor\n",
       "-0.03103               50.32973  2.064290     24.381138\n",
       "-0.02501               53.04711  2.541091     20.875726\n",
       "0.03435               104.33089  6.223432     16.764205"
      ]
     },
     "execution_count": 149,
     "metadata": {},
     "output_type": "execute_result"
    }
   ],
   "source": [
    "abs_max = df.abs().max() #maximum of the absolute values, the peak\n",
    "std = df.std() #standard deviation (equivalent to the AC coupled RMS value)\n",
    "crest_factor = abs_max/std #crest factor (peak / RMS)\n",
    "\n",
    "stats = pd.concat([abs_max, #combine the stats into one table\n",
    "                   std,\n",
    "                   crest_factor],\n",
    "                  axis=1)\n",
    "stats.columns = ['Peak Acceleration (g)','RMS (g)','Crest Factor'] #set the headers of the table\n",
    "stats"
   ]
  },
  {
   "cell_type": "markdown",
   "id": "81c54f14-12fb-4312-96d5-8e597338c1be",
   "metadata": {},
   "source": [
    "Time-Domain Acceleration Curve\n",
    "Plots the information directly on the csv file (which s/b the time-domain acceleration curve)\n",
    "Does not capture the full frequency range and spectrum as well."
   ]
  },
  {
   "cell_type": "code",
   "execution_count": 150,
   "id": "d00ac477-a987-4c00-ba73-d903f9a392b4",
   "metadata": {},
   "outputs": [
    {
     "data": {
      "image/png": "[encoded data removed]",
      "text/plain": [
       "<Figure size 640x480 with 1 Axes>"
      ]
     },
     "metadata": {},
     "output_type": "display_data"
    }
   ],
   "source": [
    "fig, ax = plt.subplots() #create an empty plot\n",
    "\n",
    "df.plot(ax=ax) #use the dataframe to add plot data, tell it to add to the already created axes\n",
    "\n",
    "ax.set(xlabel='Time (s)',\n",
    "       ylabel='Acceleration (g)',\n",
    "       title=filename)\n",
    "ax.grid() #turn on gridlines\n",
    "\n",
    "fig_name = output_file_name + \"_full-time-history.png\"\n",
    "fig.savefig(fig_name)\n",
    "plt.show()"
   ]
  },
  {
   "cell_type": "markdown",
   "id": "88ea5802-55c3-4995-91f6-6a1f6f1f81ba",
   "metadata": {},
   "source": [
    "Rolling RMS Values\n",
    "Plots the rolling RMS values from rolling peaks\n",
    "Breaks up the data into 'n_steps\" sections and calculates the max abs values, then the rms values from that\n",
    "Especially useful for generating curves to use as inputs into simulations"
   ]
  },
  {
   "cell_type": "code",
   "execution_count": 151,
   "id": "5117e6ac-d101-459e-8995-2c6c7ad3939b",
   "metadata": {},
   "outputs": [],
   "source": [
    "# Calculates Rolling Peak First\n",
    "\n",
    "n_steps = 100 #number of points to plot\n",
    "n = int(df.shape[0]/n_steps) #number of data points to use in windowing\n",
    "df_rolling_peak = df.abs().rolling(n).max().iloc[::n] #finds the absolute value of every datapoint, then does a rolling maximum of the defined window size, then subsamples every nth point"
   ]
  },
  {
   "cell_type": "code",
   "execution_count": 152,
   "id": "c28413a4-fc80-44bf-99ed-5c4ed7724ea1",
   "metadata": {},
   "outputs": [
    {
     "data": {
      "text/html": [
       "<iframe\n",
       "    scrolling=\"no\"\n",
       "    width=\"100%\"\n",
       "    height=\"545px\"\n",
       "    src=\"iframe_figures/figure_152.html\"\n",
       "    frameborder=\"0\"\n",
       "    allowfullscreen\n",
       "></iframe>\n"
      ]
     },
     "metadata": {},
     "output_type": "display_data"
    }
   ],
   "source": [
    "# Calculates Rolling RMS Values\n",
    "\n",
    "df_rolling_rms = df.rolling(n).std().iloc[::n] #does a rolling standard deviation of the defined window size, then subsamples every nth point\n",
    "\n",
    "fig = xp.line(df_rolling_rms)\n",
    "fig.update_layout(\n",
    "    title=\"Rolling RMS\",\n",
    "    xaxis_title=\"Time (s)\",\n",
    "    yaxis_title=\"Acceleration (g)\",\n",
    "    template=\"plotly_dark\"\n",
    ")\n",
    "fig.show()\n",
    "html_name = output_file_name + \"_rolling_rms.html\"\n",
    "fig.write_html(html_name,full_html=False,include_plotlyjs='cdn')"
   ]
  },
  {
   "cell_type": "markdown",
   "id": "1da4164f-86e2-46d9-8779-d27079205ded",
   "metadata": {},
   "source": [
    "PSD Curve (Welch)\n",
    "Converts time-domain to frequency-domain and generates PSD curve and csv using the Welch function\n",
    "- Has adjustable bin dwiths to smooth data while maintaining overall energy in each frequency b/c of normalization\n",
    "- Square root of area under the curve gives the Grms\n",
    "- Easier integration to Velocity (for total energy) and displacement (for intuitive analysis)"
   ]
  },
  {
   "cell_type": "code",
   "execution_count": 153,
   "id": "ed44ea7b-9223-4148-ba68-e65fd8aa88be",
   "metadata": {},
   "outputs": [],
   "source": [
    "def get_psd(df, bin_width=1.0, window=\"hann\"):\n",
    "    d_t = (df.index[-1]-df.index[0])/(len(df.index)-1)\n",
    "    fs = 1/d_t\n",
    "    f, psd = signal.welch(\n",
    "        df.values, fs=fs, nperseg= int(fs / bin_width), window=window, axis=0\n",
    "    )\n",
    "\n",
    "    df_psd = pd.DataFrame(psd, columns=df.columns)\n",
    "    df_psd[\"Frequency (Hz)\"] = f\n",
    "    df_psd = df_psd.set_index(\"Frequency (Hz)\")\n",
    "    return df_psd"
   ]
  },
  {
   "cell_type": "code",
   "execution_count": 154,
   "id": "0c60dac5-6b9d-4510-aa3e-5a5d0005bbd8",
   "metadata": {},
   "outputs": [],
   "source": [
    "# Generates a CSV File of the PSD Curve\n",
    "df_psd = get_psd(df,bin_width=4) #compute a PSD with a 1 Hz bin width\n",
    "psd_name = output_file_name + \"_psd_excel.csv\"\n",
    "df_psd.to_csv(psd_name) #save to a CSV file"
   ]
  },
  {
   "cell_type": "code",
   "execution_count": 155,
   "id": "2830d271-960c-444c-86f0-4c9f1d35d53a",
   "metadata": {},
   "outputs": [
    {
     "data": {
      "text/html": [
       "<iframe\n",
       "    scrolling=\"no\"\n",
       "    width=\"100%\"\n",
       "    height=\"545px\"\n",
       "    src=\"iframe_figures/figure_155.html\"\n",
       "    frameborder=\"0\"\n",
       "    allowfullscreen\n",
       "></iframe>\n"
      ]
     },
     "metadata": {},
     "output_type": "display_data"
    }
   ],
   "source": [
    "# Plots the PSD Curve\n",
    "fig = xp.line(df_psd)\n",
    "fig.update_layout(\n",
    "    title=\"Power Spectral Density (PSD)\",\n",
    "    xaxis_title=\"Frequency (Hz)\",\n",
    "    yaxis_title=\"Acceleration (g^2/Hz)\",\n",
    "    xaxis_type=\"log\",\n",
    "    yaxis_type=\"log\"\n",
    ")\n",
    "fig.show()\n",
    "psd_html_name = output_file_name + \"_psd_html.html\"\n",
    "fig.write_html(psd_html_name,full_html=False,include_plotlyjs='cdn')"
   ]
  },
  {
   "cell_type": "markdown",
   "id": "586d2413-4543-496b-97c8-f44fc6028471",
   "metadata": {},
   "source": [
    "Cumulative RMS\n",
    "Calculates Grms value at a given frequency range (basically the area under the PSD curve)"
   ]
  },
  {
   "cell_type": "code",
   "execution_count": 156,
   "id": "d837bf6f-2586-4d40-9222-f35691cec4fb",
   "metadata": {},
   "outputs": [],
   "source": [
    "def rms_from_psd(df_psd):\n",
    "    d_f = df_psd.index[1] - df_psd.index[0]\n",
    "    df_rms = df_psd.copy()\n",
    "    df_rms = df_rms*d_f\n",
    "    df_rms = df_rms.cumsum()\n",
    "    return(df_rms**0.5)"
   ]
  },
  {
   "cell_type": "code",
   "execution_count": 157,
   "id": "db234911-5734-42fb-85b4-0c020d8b3ad8",
   "metadata": {},
   "outputs": [
    {
     "data": {
      "text/html": [
       "<iframe\n",
       "    scrolling=\"no\"\n",
       "    width=\"100%\"\n",
       "    height=\"545px\"\n",
       "    src=\"iframe_figures/figure_157.html\"\n",
       "    frameborder=\"0\"\n",
       "    allowfullscreen\n",
       "></iframe>\n"
      ]
     },
     "metadata": {},
     "output_type": "display_data"
    }
   ],
   "source": [
    "df_rms = rms_from_psd(df_psd)\n",
    "\n",
    "fig = xp.line(df_rms)\n",
    "fig.update_layout(\n",
    "    title=\"Cumulative RMS\",\n",
    "    xaxis_title=\"Frequency (Hz)\",\n",
    "    yaxis_title=\"Acceleration (g RMS)\",\n",
    "    xaxis_type=\"log\",\n",
    "    #yaxis_type=\"log\"\n",
    ")\n",
    "fig.show()\n",
    "cum_rms_name = output_file_name + \"_cum_rms.html\"\n",
    "fig.write_html(cum_rms_name,full_html=False,include_plotlyjs='cdn')"
   ]
  },
  {
   "cell_type": "markdown",
   "id": "514aceb6-1a0a-4a5d-9437-ed7e51637d0d",
   "metadata": {},
   "source": [
    "FFT Curve\n",
    "Converts time-domain to frequency-domain and generates FFT curve to analyze frequency changes\n",
    "Useful for finding phase angle (since PSD is normalized), but susceptible to frequency leakage"
   ]
  },
  {
   "cell_type": "code",
   "execution_count": 158,
   "id": "056d69a9-1e03-47fb-9e1a-4397462151aa",
   "metadata": {},
   "outputs": [],
   "source": [
    "from scipy.fft import fft, fftfreq\n",
    "\n",
    "def get_fft(df):\n",
    "    N=len(df)\n",
    "    fs = len(df)/(df.index[-1]-df.index[0])\n",
    "\n",
    "    x_plot= fftfreq(N, 1/fs)[:N//2]\n",
    "\n",
    "    df_fft = pd.DataFrame()\n",
    "    df_phase = pd.DataFrame()\n",
    "    for name in df.columns:\n",
    "        yf = fft(df[name].values)\n",
    "        y_plot= 2.0/N * np.abs(yf[0:N//2])\n",
    "\n",
    "        phase = np.unwrap(2 * np.angle(yf)) / 2 * 180/np.pi\n",
    "        phase = phase[0:N//2]\n",
    "\n",
    "        df_phase = pd.concat([df_phase,\n",
    "                            pd.DataFrame({'Frequency (Hz)':x_plot[1:],\n",
    "                                          name:phase[1:]}).set_index('Frequency (Hz)')],axis=1)\n",
    "        df_fft = pd.concat([df_fft,\n",
    "                            pd.DataFrame({'Frequency (Hz)':x_plot[1:],\n",
    "                                          name:y_plot[1:]}).set_index('Frequency (Hz)')],axis=1)\n",
    "\n",
    "    return df_fft, df_phase\n",
    "\n",
    "df_fft, df_phase = get_fft(df)"
   ]
  },
  {
   "cell_type": "code",
   "execution_count": 159,
   "id": "6cb3957a-c0f4-4e79-b8ca-ddb2db8f7f16",
   "metadata": {},
   "outputs": [
    {
     "data": {
      "image/png": "[encoded data removed]",
      "text/plain": [
       "<Figure size 640x480 with 1 Axes>"
      ]
     },
     "metadata": {},
     "output_type": "display_data"
    }
   ],
   "source": [
    "fig, ax = plt.subplots() #create an empty plot\n",
    "\n",
    "df_fft.plot(ax=ax) #use the dataframe to add plot data, tell it to add to the already created axes\n",
    "\n",
    "ax.set(xlabel='Frequency (Hz)',\n",
    "       ylabel='Acceleration (g)',\n",
    "       title=filename)\n",
    "ax.grid() #turn on gridlines\n",
    "\n",
    "fft_name = output_file_name + \"_fft.png\"\n",
    "fig.savefig(fft_name)\n",
    "plt.show()"
   ]
  },
  {
   "cell_type": "markdown",
   "id": "38fc9291-72d0-4f01-857b-40b9090401fa",
   "metadata": {},
   "source": [
    "FFT Curve from PSD*** (Still Under Consideration)\n",
    "Creates an FFT curve from the PSD data, which allows to analyze intensity while being able to control frequency resolution\n",
    "Should have the benefits of a PSD curve, but with Phase Angle included (?)"
   ]
  },
  {
   "cell_type": "code",
   "execution_count": 160,
   "id": "266519c0-620f-4e1b-bbf3-b74ca1695e48",
   "metadata": {},
   "outputs": [],
   "source": [
    "def get_fft_from_psd(df,bin_width):\n",
    "  fs = len(df)/(df.index[-1]-df.index[0])\n",
    "  f, psd = signal.welch(df.to_numpy(),\n",
    "                        fs=fs,\n",
    "                        nperseg=fs/bin_width,\n",
    "                        window='hann',\n",
    "                        axis=0,\n",
    "                        scaling = 'spectrum'\n",
    "                        )\n",
    "\n",
    "  df_psd = pd.DataFrame(psd**0.5,columns=df.columns)\n",
    "  df_psd.columns\n",
    "  df_psd['Frequency (Hz)'] = f\n",
    "  return df_psd.set_index('Frequency (Hz)')"
   ]
  },
  {
   "cell_type": "code",
   "execution_count": 161,
   "id": "e9ec93bd-93ed-4021-b029-db9419f79bdb",
   "metadata": {},
   "outputs": [
    {
     "data": {
      "text/html": [
       "<iframe\n",
       "    scrolling=\"no\"\n",
       "    width=\"100%\"\n",
       "    height=\"545px\"\n",
       "    src=\"iframe_figures/figure_161.html\"\n",
       "    frameborder=\"0\"\n",
       "    allowfullscreen\n",
       "></iframe>\n"
      ]
     },
     "metadata": {},
     "output_type": "display_data"
    }
   ],
   "source": [
    "df_fft_from_psd = get_fft_from_psd(df,.25)\n",
    "\n",
    "fig = xp.line(df_fft_from_psd)\n",
    "fig.update_layout(\n",
    "    title=\"FFT from PSD\",\n",
    "    xaxis_title=\"Frequency (Hz)\",\n",
    "    yaxis_title=\"Acceleration (g)\",\n",
    "    #xaxis_type=\"log\",\n",
    "    #yaxis_type=\"log\"\n",
    ")\n",
    "fig.show()\n",
    "fft_from_psd = output_file_name + \"_fft_from_psd.html\"\n",
    "fig.write_html(fft_from_psd,full_html=False,include_plotlyjs='cdn')"
   ]
  },
  {
   "cell_type": "code",
   "execution_count": null,
   "id": "97ac1bbe-4e27-4ec1-b8c1-34aeebb0a87e",
   "metadata": {},
   "outputs": [],
   "source": []
  }
 ],
 "metadata": {
  "kernelspec": {
   "display_name": "Python 3 (ipykernel)",
   "language": "python",
   "name": "python3"
  },
  "language_info": {
   "codemirror_mode": {
    "name": "ipython",
    "version": 3
   },
   "file_extension": ".py",
   "mimetype": "text/x-python",
   "name": "python",
   "nbconvert_exporter": "python",
   "pygments_lexer": "ipython3",
   "version": "3.11.7"
  }
 },
 "nbformat": 4,
 "nbformat_minor": 5
}
