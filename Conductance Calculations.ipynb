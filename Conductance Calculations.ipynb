{
 "cells": [
  {
   "cell_type": "code",
   "execution_count": 60,
   "id": "1eb4963b-c3e6-494f-a790-a75545d9a1ea",
   "metadata": {},
   "outputs": [],
   "source": [
    "# Class for storing layer properties\n",
    "\n",
    "class layer:\n",
    "    def __init__(self, length, width, thk, cond_x, cond_y, cond_z, layers):\n",
    "        self.length = length\n",
    "        self.width = width\n",
    "        self.thk =  thk\n",
    "        self.cond_x = cond_x\n",
    "        self.cond_y = cond_y\n",
    "        self.cond_z = cond_z\n",
    "        self.layers = layers\n",
    "\n",
    "    def condty_x(abc):\n",
    "        a_cs_x = abc.length * abc.thk\n",
    "        R_x = (abc.layers * abc.width) / (abc.cond_x * a_cs_x)\n",
    "        return R_x\n",
    "\n",
    "    def condty_y(abc):\n",
    "        a_cs_y = abc.width * abc.thk\n",
    "        R_y = (abc.layers * abc.length) / (abc.cond_y * a_cs_y)\n",
    "        return R_y\n",
    "\n",
    "    def condty_z(abc):\n",
    "        a_cs_z = abc.width * abc.length\n",
    "        R_z = (abc.layers * abc.thk) / (abc.cond_z * a_cs_z)\n",
    "        return R_z\n",
    "\n",
    "    def total_z(abc):\n",
    "        z_total = abc.thk * abc.layers\n",
    "        return z_total"
   ]
  },
  {
   "cell_type": "code",
   "execution_count": 61,
   "id": "e768126d-fde6-47f3-a9db-b10a717330d7",
   "metadata": {},
   "outputs": [],
   "source": [
    "# Define Materials\n",
    "\n",
    "Cu_t = layer(length = 4.025,\n",
    "           width  = 1.000, \n",
    "           thk    = 0.0028, \n",
    "           cond_x = 334.400, \n",
    "           cond_y = 334.400, \n",
    "           cond_z = 334.400, \n",
    "           layers = 1)\n",
    "\n",
    "Cu_m = layer(length = 4.900,\n",
    "           width  = 3.000, \n",
    "           thk    = 0.0028, \n",
    "           cond_x = 334.400, \n",
    "           cond_y = 334.400, \n",
    "           cond_z = 334.400, \n",
    "           layers = 1)\n",
    "\n",
    "VT = layer(length = 4.900,\n",
    "           width  = 3.000, \n",
    "           thk    = 0.004, \n",
    "           cond_x = 2.200, \n",
    "           cond_y = 2.200, \n",
    "           cond_z = 3.400, \n",
    "           layers = 2)\n",
    "\n",
    "Al = layer(length = 4.900,\n",
    "           width  = 3.000, \n",
    "           thk    = 0.062, \n",
    "           cond_x = 167.0, \n",
    "           cond_y = 167.0, \n",
    "           cond_z = 167.0, \n",
    "           layers = 1)"
   ]
  },
  {
   "cell_type": "code",
   "execution_count": 62,
   "id": "5b402c24-87a3-41fc-b880-a016fe4efd6b",
   "metadata": {},
   "outputs": [
    {
     "name": "stdout",
     "output_type": "stream",
     "text": [
      "k_z = 27.3601 W/mK\n"
     ]
    }
   ],
   "source": [
    "# Conductivity in Z\n",
    "\n",
    "thk_overall = (Cu_t.total_z()) + (Cu_m.total_z()) + (VT.total_z()) + (Al.total_z()) \n",
    "R_z_overall = (Cu_t.condty_z() + Cu_m.condty_z() + VT.condty_z() + Al.condty_z())\n",
    "A_z_overall = Al.width * Al.length\n",
    "\n",
    "k_z_overall = thk_overall / (R_z_overall * A_z_overall)\n",
    "\n",
    "print(\"k_z = \" + str(round(k_z_overall, 4)) + \" W/mK\")"
   ]
  },
  {
   "cell_type": "code",
   "execution_count": 66,
   "id": "b2863abc-88a2-443c-b0b1-eb4bc609e228",
   "metadata": {},
   "outputs": [
    {
     "name": "stdout",
     "output_type": "stream",
     "text": [
      "k_x = 179.9217 W/mK\n"
     ]
    }
   ],
   "source": [
    "# Conductivity in X\n",
    "# s/b 180.2233 W/mK\n",
    "\n",
    "thk_overall = (Cu_t.total_z()) + (Cu_m.total_z()) + (VT.total_z()) + (Al.total_z()) \n",
    "R_x_overall = 1/((1/Cu_t.condty_x()) + (1/Cu_m.condty_x()) + (1/VT.condty_x()) + (1/Al.condty_x()))\n",
    "A_x_overall = thk_overall * Al.length\n",
    "\n",
    "k_z_overall = Al.width / (R_x_overall * A_x_overall)\n",
    "\n",
    "print(\"k_x = \" + str(round(k_z_overall, 4)) + \" W/mK\")"
   ]
  },
  {
   "cell_type": "code",
   "execution_count": 67,
   "id": "7f888de3-89b7-4702-b032-682410347271",
   "metadata": {},
   "outputs": [
    {
     "name": "stdout",
     "output_type": "stream",
     "text": [
      "k_y = 154.4269 W/mK\n"
     ]
    }
   ],
   "source": [
    "# Conductivity in Y\n",
    "# s/b 180.2233 W/mK\n",
    "\n",
    "thk_overall = (Cu_t.total_z()) + (Cu_m.total_z()) + (VT.total_z()) + (Al.total_z()) \n",
    "R_y_overall = 1/((1/Cu_t.condty_y()) + (1/Cu_m.condty_y()) + (1/VT.condty_y()) + (1/Al.condty_y()))\n",
    "A_y_overall = thk_overall * Al.width\n",
    "\n",
    "k_y_overall = Al.length / (R_y_overall * A_y_overall)\n",
    "\n",
    "print(\"k_y = \" + str(round(k_y_overall, 4)) + \" W/mK\")"
   ]
  },
  {
   "cell_type": "code",
   "execution_count": null,
   "id": "f09c8124-99ac-4419-9b73-fc50eb0ce39b",
   "metadata": {},
   "outputs": [],
   "source": []
  }
 ],
 "metadata": {
  "kernelspec": {
   "display_name": "Python 3 (ipykernel)",
   "language": "python",
   "name": "python3"
  },
  "language_info": {
   "codemirror_mode": {
    "name": "ipython",
    "version": 3
   },
   "file_extension": ".py",
   "mimetype": "text/x-python",
   "name": "python",
   "nbconvert_exporter": "python",
   "pygments_lexer": "ipython3",
   "version": "3.11.7"
  }
 },
 "nbformat": 4,
 "nbformat_minor": 5
}
